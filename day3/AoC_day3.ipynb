{
 "cells": [
  {
   "cell_type": "markdown",
   "metadata": {},
   "source": [
    "# Day 3"
   ]
  },
  {
   "cell_type": "code",
   "execution_count": 1,
   "metadata": {},
   "outputs": [
    {
     "output_type": "execute_result",
     "data": {
      "text/plain": [
       "['...#.....#.......##......#.....',\n",
       " '...#..................#........',\n",
       " '....##....#.......#............']"
      ]
     },
     "metadata": {},
     "execution_count": 1
    }
   ],
   "source": [
    "# import data\n",
    "with open(\"input.txt\", 'r') as file:\n",
    "    arr = file.read().splitlines()\n",
    "\n",
    "arr[0:3] # print first 3 lines"
   ]
  },
  {
   "cell_type": "markdown",
   "metadata": {},
   "source": [
    "## Part 1"
   ]
  },
  {
   "cell_type": "code",
   "execution_count": 2,
   "metadata": {},
   "outputs": [
    {
     "output_type": "stream",
     "name": "stdout",
     "text": [
      "220\n"
     ]
    }
   ],
   "source": [
    "position = 0\n",
    "count = 0\n",
    "\n",
    "for line in arr:\n",
    "    if line[position] == \"#\":\n",
    "        count += 1\n",
    "    \n",
    "    # wrap around if we hit the end of the line\n",
    "    position = (position + 3)%len(line)\n",
    "    \n",
    "print(count) "
   ]
  },
  {
   "source": [
    "## Part 2"
   ],
   "cell_type": "markdown",
   "metadata": {}
  },
  {
   "cell_type": "code",
   "execution_count": 3,
   "metadata": {},
   "outputs": [],
   "source": [
    "def checkSlope(right, down):\n",
    "    arr_selected=arr[::down]\n",
    "    position = 0\n",
    "    count = 0\n",
    "\n",
    "    for line in arr_selected:\n",
    "        if line[position] == \"#\":\n",
    "            count += 1\n",
    "        # wrap around if we hit the end of the line\n",
    "        position = (position + right)%len(line)\n",
    "    return count"
   ]
  },
  {
   "cell_type": "code",
   "execution_count": 7,
   "metadata": {
    "tags": []
   },
   "outputs": [
    {
     "output_type": "stream",
     "name": "stdout",
     "text": [
      "Right:  3 Down:  1 Trees:  220\nRight:  1 Down:  1 Trees:  70\nRight:  5 Down:  1 Trees:  63\nRight:  7 Down:  1 Trees:  76\nRight:  1 Down:  2 Trees:  29\nAns: 2138320800\n"
     ]
    }
   ],
   "source": [
    "slopes=[[3,1],[1,1],[5,1],[7,1],[1,2]]\n",
    "\n",
    "prod = 1\n",
    "for slope in slopes:\n",
    "    treeNum = checkSlope(slope[0],slope[1])\n",
    "    print(\"Right: \", slope[0],\"Down: \", slope[1], \"Trees: \", treeNum)\n",
    "    prod *=treeNum   \n",
    "\n",
    "print(\"Ans:\", prod)"
   ]
  }
 ],
 "metadata": {
  "kernelspec": {
   "display_name": "Python 3",
   "language": "python",
   "name": "python3"
  },
  "language_info": {
   "codemirror_mode": {
    "name": "ipython",
    "version": 3
   },
   "file_extension": ".py",
   "mimetype": "text/x-python",
   "name": "python",
   "nbconvert_exporter": "python",
   "pygments_lexer": "ipython3",
   "version": "3.7.7-final"
  },
  "toc": {
   "base_numbering": 1,
   "nav_menu": {},
   "number_sections": true,
   "sideBar": true,
   "skip_h1_title": false,
   "title_cell": "Table of Contents",
   "title_sidebar": "Contents",
   "toc_cell": false,
   "toc_position": {},
   "toc_section_display": true,
   "toc_window_display": false
  },
  "varInspector": {
   "cols": {
    "lenName": 16,
    "lenType": 16,
    "lenVar": 40
   },
   "kernels_config": {
    "python": {
     "delete_cmd_postfix": "",
     "delete_cmd_prefix": "del ",
     "library": "var_list.py",
     "varRefreshCmd": "print(var_dic_list())"
    },
    "r": {
     "delete_cmd_postfix": ") ",
     "delete_cmd_prefix": "rm(",
     "library": "var_list.r",
     "varRefreshCmd": "cat(var_dic_list()) "
    }
   },
   "types_to_exclude": [
    "module",
    "function",
    "builtin_function_or_method",
    "instance",
    "_Feature"
   ],
   "window_display": false
  }
 },
 "nbformat": 4,
 "nbformat_minor": 4
}