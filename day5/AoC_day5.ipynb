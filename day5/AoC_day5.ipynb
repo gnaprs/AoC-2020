{
 "cells": [
  {
   "cell_type": "markdown",
   "metadata": {},
   "source": [
    "# Day 5"
   ]
  },
  {
   "cell_type": "code",
   "execution_count": 51,
   "metadata": {
    "tags": []
   },
   "outputs": [],
   "source": [
    "import pandas as pd \n",
    "import re\n",
    "\n",
    "seats_bin = []\n",
    "# import data\n",
    "with open(\"input.txt\", 'r') as file:\n",
    "    for line in file:\n",
    "        line=line.split('\\n')[0]\n",
    "\n",
    "        # recognize that the format of the string is binary in the format: row = [:7], col = [7:]\n",
    "        current_seat = \"\"\n",
    "        for i in line:\n",
    "            current_seat+={'F': '0','B': '1', 'L': '0', 'R': '1'}.get(i)\n",
    "        seats_bin.append(current_seat)"
   ]
  },
  {
   "cell_type": "markdown",
   "metadata": {},
   "source": [
    "## Part 1"
   ]
  },
  {
   "cell_type": "code",
   "execution_count": 65,
   "metadata": {},
   "outputs": [
    {
     "output_type": "stream",
     "name": "stdout",
     "text": [
      "Ans: 953\n"
     ]
    }
   ],
   "source": [
    "seats_id = []\n",
    "\n",
    "for i in seats_bin:\n",
    "    # converting from binary to row and column no.\n",
    "    row = int(i[:7],2)\n",
    "    col = int(i[7:],2)\n",
    "\n",
    "    # seat ID: multiply the row by 8, then add the column\n",
    "    seats_id.append(row*8+col)\n",
    "    \n",
    "print('Ans:', max(seats_id))"
   ]
  },
  {
   "source": [
    "## Part 2"
   ],
   "cell_type": "markdown",
   "metadata": {}
  },
  {
   "cell_type": "code",
   "execution_count": 64,
   "metadata": {},
   "outputs": [
    {
     "output_type": "stream",
     "name": "stdout",
     "text": [
      "Ans: 615\n"
     ]
    }
   ],
   "source": [
    "# sort all seats in numerical order\n",
    "seats_id.sort()\n",
    "\n",
    "for i, seat_id in enumerate(seats_id):\n",
    "    # explicitly skip first seat\n",
    "    if seat_id + 1 != seats_id[i + 1]:\n",
    "        # my seat is the empty seat behind someone elses'!\n",
    "        print('Ans:', seat_id + 1)\n",
    "        break"
   ]
  }
 ],
 "metadata": {
  "kernelspec": {
   "display_name": "Python 3",
   "language": "python",
   "name": "python3"
  },
  "language_info": {
   "codemirror_mode": {
    "name": "ipython",
    "version": 3
   },
   "file_extension": ".py",
   "mimetype": "text/x-python",
   "name": "python",
   "nbconvert_exporter": "python",
   "pygments_lexer": "ipython3",
   "version": "3.7.7-final"
  },
  "toc": {
   "base_numbering": 1,
   "nav_menu": {},
   "number_sections": true,
   "sideBar": true,
   "skip_h1_title": false,
   "title_cell": "Table of Contents",
   "title_sidebar": "Contents",
   "toc_cell": false,
   "toc_position": {},
   "toc_section_display": true,
   "toc_window_display": false
  },
  "varInspector": {
   "cols": {
    "lenName": 16,
    "lenType": 16,
    "lenVar": 40
   },
   "kernels_config": {
    "python": {
     "delete_cmd_postfix": "",
     "delete_cmd_prefix": "del ",
     "library": "var_list.py",
     "varRefreshCmd": "print(var_dic_list())"
    },
    "r": {
     "delete_cmd_postfix": ") ",
     "delete_cmd_prefix": "rm(",
     "library": "var_list.r",
     "varRefreshCmd": "cat(var_dic_list()) "
    }
   },
   "types_to_exclude": [
    "module",
    "function",
    "builtin_function_or_method",
    "instance",
    "_Feature"
   ],
   "window_display": false
  }
 },
 "nbformat": 4,
 "nbformat_minor": 4
}