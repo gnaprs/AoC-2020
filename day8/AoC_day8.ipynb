{
 "cells": [
  {
   "cell_type": "markdown",
   "metadata": {},
   "source": [
    "# Day 8"
   ]
  },
  {
   "cell_type": "code",
   "execution_count": 1,
   "metadata": {},
   "outputs": [
    {
     "output_type": "execute_result",
     "data": {
      "text/plain": [
       "['jmp +236', 'acc +43', 'acc +28']"
      ]
     },
     "metadata": {},
     "execution_count": 1
    }
   ],
   "source": [
    "# import data\n",
    "with open(\"input.txt\", 'r') as file:\n",
    "    arr = file.read().splitlines()\n",
    "\n",
    "arr[0:3] # print first 3 lines"
   ]
  },
  {
   "cell_type": "markdown",
   "metadata": {},
   "source": [
    "## Part 1"
   ]
  },
  {
   "cell_type": "code",
   "execution_count": 2,
   "metadata": {},
   "outputs": [
    {
     "output_type": "stream",
     "name": "stdout",
     "text": [
      "Ans:  1810\n"
     ]
    }
   ],
   "source": [
    "acc = 0\n",
    "curPos = 0\n",
    "visitedPos = []\n",
    "\n",
    "while not(curPos in visitedPos): \n",
    "    visitedPos.append(curPos)\n",
    "    i = arr[curPos]\n",
    "\n",
    "    if i[:3] == 'acc':\n",
    "        acc += int(i[4:])\n",
    "        curPos += 1\n",
    "    elif i[:3] ==  'jmp':\n",
    "        curPos += int(i[4:])\n",
    "    else:\n",
    "        curPos += 1\n",
    "\n",
    "print(\"Ans: \", acc)\n",
    "    "
   ]
  },
  {
   "cell_type": "markdown",
   "metadata": {},
   "source": [
    "## Part 2"
   ]
  },
  {
   "cell_type": "code",
   "execution_count": 21,
   "metadata": {
    "tags": []
   },
   "outputs": [
    {
     "output_type": "stream",
     "name": "stdout",
     "text": [
      "0\nTrue 336\n336\n"
     ]
    }
   ],
   "source": [
    "def checkBootCode(arr_in):\n",
    "\n",
    "    acc = 0\n",
    "    curPos = 0\n",
    "    visitedPos = []\n",
    "\n",
    "    complete = False\n",
    "    while not(curPos in visitedPos): \n",
    "        visitedPos.append(curPos)\n",
    "        \n",
    "        # if we reached the end of the field\n",
    "        if curPos == len(arr_in):\n",
    "            complete = True\n",
    "            break\n",
    "\n",
    "        i = arr_in[curPos]\n",
    "\n",
    "        if i[:3] == 'acc':\n",
    "            acc += int(i[4:])\n",
    "            curPos += 1\n",
    "        elif i[:3] ==  'jmp':\n",
    "            curPos += int(i[4:])\n",
    "        else:\n",
    "            curPos += 1\n",
    "\n",
    "    return complete, acc\n",
    "\n",
    "checkBootCode(arr)\n",
    "\n",
    "# change jmp to nop \n",
    "for i in range(len(arr)):\n",
    "    print(i)\n",
    "    # make copy of input\n",
    "    arr_copy = arr\n",
    "    line = arr_copy[i]\n",
    "\n",
    "    if not(line[:3] == 'acc'):\n",
    "        if line[:3] == 'jmp':\n",
    "            newline = 'nop' + line[3:]\n",
    "\n",
    "        elif line[:3] == 'nop':\n",
    "            newline = 'jmp' + line[3:]\n",
    "\n",
    "        arr_copy[i] = newline\n",
    "        complete, acc = checkBootCode(arr_copy)\n",
    "\n",
    "        print(complete,acc)\n",
    "        if complete:\n",
    "            break\n",
    "\n",
    "print(acc)"
   ]
  },
  {
   "cell_type": "code",
   "execution_count": 22,
   "metadata": {},
   "outputs": [
    {
     "output_type": "stream",
     "name": "stdout",
     "text": [
      "line 573 executed twice, acc has value 1810.\nline 332 executed twice, acc has value 1906.\nline 4 executed twice, acc has value 1793.\nline 4 executed twice, acc has value 1318.\nline 4 executed twice, acc has value 1103.\nline 4 executed twice, acc has value 546.\nline 4 executed twice, acc has value 340.\nline 4 executed twice, acc has value 359.\nline 17 executed twice, acc has value 775.\nline 17 executed twice, acc has value 187.\nline 11 executed twice, acc has value 496.\n1810 355\n"
     ]
    }
   ],
   "source": [
    "import re\n",
    "\n",
    "file = open('input.txt', 'r')\n",
    "lines = file.readlines()\n",
    "\n",
    "\n",
    "def test_code(script):\n",
    "    acc = 0\n",
    "    executed_sum = [0]*(len(script))\n",
    "    code_pattern = re.compile(r'^([a-z]{3}) ([+-][0-9]{1,3})\\n$')\n",
    "    i = -1\n",
    "    while i < len(script) - 1:\n",
    "        i += 1\n",
    "        executed_sum[i] += 1\n",
    "\n",
    "        if executed_sum[i] > 1:\n",
    "            print(\"line %d executed twice, acc has value %d.\" % (i, acc))\n",
    "            return [-1, i, acc]\n",
    "\n",
    "        line = code_pattern.search(script[i])\n",
    "        operation = line.group(1)\n",
    "        argument = int(line.group(2))\n",
    "\n",
    "        if operation == 'acc':\n",
    "            acc += argument\n",
    "        elif operation == 'jmp':\n",
    "            i += argument\n",
    "            i -= 1\n",
    "    return [0, i, acc]\n",
    "\n",
    "\n",
    "def find_bad_jmp(script):\n",
    "    code_pattern = re.compile(r'^([a-z]{3}) ([+-][0-9]{1,3})\\n$')\n",
    "    i = -1\n",
    "    while i < len(script) - 1:\n",
    "        i += 1\n",
    "        line = code_pattern.search(script[i])\n",
    "        operation = line.group(1)\n",
    "        argument = int(line.group(2))\n",
    "\n",
    "        if operation == 'nop':\n",
    "            test_script = script.copy()\n",
    "            test_script[i] = \"jmp %+d\\n\" % argument\n",
    "            if test_code(test_script)[0] != -1:\n",
    "                return test_code(test_script)[2]\n",
    "\n",
    "        elif operation == 'jmp':\n",
    "            test_script = script\n",
    "            test_script[i] = \"nop %+d\\n\" % argument\n",
    "            if test_code(test_script)[0] != -1:\n",
    "                return test_code(test_script)[2]\n",
    "    return \"could not find bad operation\"\n",
    "\n",
    "\n",
    "orig_acc = test_code(lines)[2]\n",
    "good_acc = find_bad_jmp(lines)\n",
    "\n",
    "print(orig_acc, good_acc)"
   ]
  }
 ],
 "metadata": {
  "kernelspec": {
   "display_name": "Python 3",
   "language": "python",
   "name": "python3"
  },
  "language_info": {
   "codemirror_mode": {
    "name": "ipython",
    "version": 3
   },
   "file_extension": ".py",
   "mimetype": "text/x-python",
   "name": "python",
   "nbconvert_exporter": "python",
   "pygments_lexer": "ipython3",
   "version": "3.7.7-final"
  },
  "toc": {
   "base_numbering": 1,
   "nav_menu": {},
   "number_sections": true,
   "sideBar": true,
   "skip_h1_title": false,
   "title_cell": "Table of Contents",
   "title_sidebar": "Contents",
   "toc_cell": false,
   "toc_position": {},
   "toc_section_display": true,
   "toc_window_display": false
  },
  "varInspector": {
   "cols": {
    "lenName": 16,
    "lenType": 16,
    "lenVar": 40
   },
   "kernels_config": {
    "python": {
     "delete_cmd_postfix": "",
     "delete_cmd_prefix": "del ",
     "library": "var_list.py",
     "varRefreshCmd": "print(var_dic_list())"
    },
    "r": {
     "delete_cmd_postfix": ") ",
     "delete_cmd_prefix": "rm(",
     "library": "var_list.r",
     "varRefreshCmd": "cat(var_dic_list()) "
    }
   },
   "types_to_exclude": [
    "module",
    "function",
    "builtin_function_or_method",
    "instance",
    "_Feature"
   ],
   "window_display": false
  }
 },
 "nbformat": 4,
 "nbformat_minor": 4
}