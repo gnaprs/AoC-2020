{
 "cells": [
  {
   "cell_type": "markdown",
   "metadata": {},
   "source": [
    "# Day 8"
   ]
  },
  {
   "cell_type": "code",
   "execution_count": 33,
   "metadata": {},
   "outputs": [
    {
     "output_type": "execute_result",
     "data": {
      "text/plain": [
       "['jmp +236', 'acc +43', 'acc +28']"
      ]
     },
     "metadata": {},
     "execution_count": 33
    }
   ],
   "source": [
    "# import data\n",
    "with open(\"input.txt\", 'r') as file:\n",
    "    arr = file.read().splitlines()\n",
    "\n",
    "arr[0:3] # print first 3 lines"
   ]
  },
  {
   "cell_type": "markdown",
   "metadata": {},
   "source": [
    "## Part 1"
   ]
  },
  {
   "cell_type": "code",
   "execution_count": 32,
   "metadata": {},
   "outputs": [
    {
     "output_type": "stream",
     "name": "stdout",
     "text": [
      "Ans:  1810\n"
     ]
    }
   ],
   "source": [
    "def checkBootCode(arr_in):\n",
    "\n",
    "    acc = 0\n",
    "    curPos = 0\n",
    "    visitedPos = []\n",
    "\n",
    "    complete = False\n",
    "    while not(curPos in visitedPos): \n",
    "        visitedPos.append(curPos)\n",
    "        \n",
    "        # if we reached the end of the field\n",
    "        if curPos == len(arr_in):\n",
    "            complete = True\n",
    "            break\n",
    "\n",
    "        i = arr_in[curPos]\n",
    "\n",
    "        if i[:3] == 'acc':\n",
    "            acc += int(i[4:])\n",
    "            curPos += 1\n",
    "        elif i[:3] ==  'jmp':\n",
    "            curPos += int(i[4:])\n",
    "        else:\n",
    "            curPos += 1\n",
    "\n",
    "    return complete, acc\n",
    "\n",
    "print(\"Ans: \", checkBootCode(arr)[1])\n",
    "    "
   ]
  },
  {
   "cell_type": "markdown",
   "metadata": {},
   "source": [
    "## Part 2"
   ]
  },
  {
   "cell_type": "code",
   "execution_count": 31,
   "metadata": {
    "tags": []
   },
   "outputs": [
    {
     "output_type": "stream",
     "name": "stdout",
     "text": [
      "Ans:  969\n"
     ]
    }
   ],
   "source": [
    "# change jmp to nop \n",
    "for i in range(len(arr)):\n",
    "    # make copy of input\n",
    "    arr_copy = arr.copy()\n",
    "    line = arr_copy[i]\n",
    "\n",
    "    if not(line[:3] == 'acc'):\n",
    "        if line[:3] == 'jmp':\n",
    "            newline = 'nop' + line[3:]\n",
    "\n",
    "        elif line[:3] == 'nop':\n",
    "            newline = 'jmp' + line[3:]\n",
    "\n",
    "        arr_copy[i] = newline\n",
    "        complete, acc = checkBootCode(arr_copy)\n",
    "\n",
    "        if complete:\n",
    "            break\n",
    "\n",
    "print(\"Ans: \", acc)"
   ]
  }
 ],
 "metadata": {
  "kernelspec": {
   "display_name": "Python 3",
   "language": "python",
   "name": "python3"
  },
  "language_info": {
   "codemirror_mode": {
    "name": "ipython",
    "version": 3
   },
   "file_extension": ".py",
   "mimetype": "text/x-python",
   "name": "python",
   "nbconvert_exporter": "python",
   "pygments_lexer": "ipython3",
   "version": "3.7.7-final"
  },
  "toc": {
   "base_numbering": 1,
   "nav_menu": {},
   "number_sections": true,
   "sideBar": true,
   "skip_h1_title": false,
   "title_cell": "Table of Contents",
   "title_sidebar": "Contents",
   "toc_cell": false,
   "toc_position": {},
   "toc_section_display": true,
   "toc_window_display": false
  },
  "varInspector": {
   "cols": {
    "lenName": 16,
    "lenType": 16,
    "lenVar": 40
   },
   "kernels_config": {
    "python": {
     "delete_cmd_postfix": "",
     "delete_cmd_prefix": "del ",
     "library": "var_list.py",
     "varRefreshCmd": "print(var_dic_list())"
    },
    "r": {
     "delete_cmd_postfix": ") ",
     "delete_cmd_prefix": "rm(",
     "library": "var_list.r",
     "varRefreshCmd": "cat(var_dic_list()) "
    }
   },
   "types_to_exclude": [
    "module",
    "function",
    "builtin_function_or_method",
    "instance",
    "_Feature"
   ],
   "window_display": false
  }
 },
 "nbformat": 4,
 "nbformat_minor": 4
}