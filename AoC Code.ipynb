{
 "cells": [
  {
   "source": [
    "# Day 1"
   ],
   "cell_type": "markdown",
   "metadata": {}
  },
  {
   "cell_type": "code",
   "execution_count": 1,
   "metadata": {},
   "outputs": [],
   "source": [
    "import pandas as pd\n",
    "\n",
    "df1 = pd.read_csv(\"input.txt\", header=None)\n",
    "arr=df1.values"
   ]
  },
  {
   "source": [
    "## Part 1"
   ],
   "cell_type": "markdown",
   "metadata": {}
  },
  {
   "cell_type": "code",
   "execution_count": 2,
   "metadata": {},
   "outputs": [
    {
     "output_type": "stream",
     "name": "stdout",
     "text": [
      "[896] [1124]\n",
      "[1007104]\n"
     ]
    }
   ],
   "source": [
    "def getPairs(arr, sum):\n",
    "    N = len(arr)\n",
    "    l = 0\n",
    "    r = N - 1\n",
    "\n",
    "    # sort array\n",
    "    arr = sorted(arr, key=(lambda xs: xs[0]))\n",
    "\n",
    "    # invariant I: only elements in arr[l..r) can be part of the correct pair\n",
    "    #              && l < r\n",
    "    #\n",
    "    # This means we only need to consider elements in arr[l..r).\n",
    "    while (l < r):\n",
    "\n",
    "        # I && l < r\n",
    "        lr_sum = arr[l] + arr[r]\n",
    "\n",
    "        if lr_sum < sum:\n",
    "            # arr[l] cannot be part of the correct pair. Since arr is sorted,\n",
    "            # any pair containing arr[l] will have even smaller sum. Hence, I\n",
    "            # is maintained.\n",
    "            l += 1\n",
    "\n",
    "        elif lr_sum > sum:\n",
    "            # arr[r] cannot be part of the correct pair. Since arr is sorted,\n",
    "            # any pair containing arr[r] will have even larger sum. Hence, I\n",
    "            # is maintained.\n",
    "            r -= 1\n",
    "\n",
    "        else:\n",
    "            # found the correct pair, print and return\n",
    "            print(arr[l], arr[r])\n",
    "            return arr[l], arr[r]\n",
    "\n",
    "    # I && l == r => no correct pair in arr[0..N)\n",
    "    raise Exception(\"Could not find pair\")\n",
    "\n",
    "try:\n",
    "    ans1, ans2 = getPairs(arr, 2020)\n",
    "    print(ans1 * ans2)\n",
    "except Exception as e:\n",
    "    print(e)"
   ]
  },
  {
   "source": [
    "## Part 2\n",
    "\n",
    "Three entries"
   ],
   "cell_type": "markdown",
   "metadata": {}
  },
  {
   "cell_type": "code",
   "execution_count": 3,
   "metadata": {},
   "outputs": [
    {
     "data": {
      "text/plain": [
       "array([  24,  465,  539,  812,  896, 1124, 1149, 1207, 1215, 1217, 1222,\n",
       "       1224, 1225, 1232, 1234, 1237, 1240, 1241, 1252, 1270, 1271, 1279,\n",
       "       1280, 1284, 1299, 1301, 1304, 1317, 1329, 1330, 1331, 1338, 1343,\n",
       "       1360, 1365, 1369, 1371, 1372, 1376, 1379, 1381, 1383, 1384, 1386,\n",
       "       1388, 1389, 1394, 1395, 1397, 1400, 1410, 1417, 1419, 1422, 1427,\n",
       "       1429, 1434, 1435, 1441, 1442, 1443, 1453, 1457, 1458, 1462, 1469,\n",
       "       1470, 1473, 1484, 1487, 1490, 1494, 1502, 1505, 1510, 1515, 1524,\n",
       "       1528, 1536, 1539, 1541, 1544, 1546, 1548, 1551, 1554, 1562, 1566,\n",
       "       1572, 1582, 1585, 1586, 1589, 1592, 1593, 1597, 1602, 1610, 1615,\n",
       "       1616, 1619, 1625, 1626, 1629, 1630, 1631, 1632, 1637, 1638, 1647,\n",
       "       1652, 1658, 1675, 1676, 1688, 1691, 1692, 1697, 1700, 1705, 1707,\n",
       "       1710, 1711, 1712, 1713, 1720, 1721, 1723, 1736, 1737, 1739, 1741,\n",
       "       1744, 1745, 1748, 1751, 1752, 1753, 1754, 1758, 1769, 1778, 1780,\n",
       "       1788, 1792, 1794, 1795, 1800, 1804, 1805, 1815, 1817, 1821, 1823,\n",
       "       1825, 1829, 1836, 1856, 1857, 1868, 1883, 1884, 1885, 1888, 1892,\n",
       "       1896, 1902, 1908, 1911, 1915, 1922, 1932, 1933, 1934, 1941, 1948,\n",
       "       1950, 1955, 1956, 1958, 1963, 1966, 1968, 1974, 1975, 1976, 1977,\n",
       "       1979, 1980, 1982, 1983, 1988, 1994, 2001, 2003, 2005, 2006, 2008,\n",
       "       2009, 2010], dtype=int64)"
      ]
     },
     "execution_count": 3,
     "metadata": {},
     "output_type": "execute_result"
    }
   ],
   "source": [
    "import numpy as np\n",
    "\n",
    "arr1=np.ndarray.flatten(arr)\n",
    "arr1.sort()\n",
    "arr1"
   ]
  },
  {
   "cell_type": "code",
   "execution_count": 4,
   "metadata": {},
   "outputs": [
    {
     "output_type": "stream",
     "name": "stdout",
     "text": [
      "24 539 1457\n18847752\n"
     ]
    }
   ],
   "source": [
    "def getTriplet(arr, sum): \n",
    "    n = len(arr)\n",
    "    \n",
    "    arr.sort() # sort from lowest to highest, fix first element\n",
    "    \n",
    "    for i in range(0, n-2): \n",
    "        l = i + 1 # left is one after locked value\n",
    "          \n",
    "        r = n-1 # right is end of array\n",
    "        while (l < r): \n",
    "            if( arr[i] + arr[l] + arr[r] == sum): \n",
    "                print(arr[i], arr[l], arr[r])\n",
    "                return arr[i], arr[l], arr[r]\n",
    "\n",
    "            # if less than sum, move to a larger number (left move)\n",
    "            elif (arr[i] + arr[l] + arr[r] < sum): \n",
    "                l += 1\n",
    "            # if more than sum, move to a smaller number (right move)\n",
    "            else: # A[i] + A[l] + A[r] > sum \n",
    "                r -= 1\n",
    "  \n",
    "    # rip no triplet shrugs\n",
    "    return 0,0,0\n",
    "\n",
    "ans1,ans2,ans3=getTriplet(arr1,2020)\n",
    "print(ans1*ans2*ans3)"
   ]
  }
 ],
 "metadata": {
  "kernelspec": {
   "display_name": "Python 3",
   "language": "python",
   "name": "python3"
  },
  "language_info": {
   "codemirror_mode": {
    "name": "ipython",
    "version": 3
   },
   "file_extension": ".py",
   "mimetype": "text/x-python",
   "name": "python",
   "nbconvert_exporter": "python",
   "pygments_lexer": "ipython3",
   "version": "3.7.7-final"
  },
  "toc": {
   "base_numbering": 1,
   "nav_menu": {},
   "number_sections": true,
   "sideBar": true,
   "skip_h1_title": false,
   "title_cell": "Table of Contents",
   "title_sidebar": "Contents",
   "toc_cell": false,
   "toc_position": {},
   "toc_section_display": true,
   "toc_window_display": false
  },
  "varInspector": {
   "cols": {
    "lenName": 16,
    "lenType": 16,
    "lenVar": 40
   },
   "kernels_config": {
    "python": {
     "delete_cmd_postfix": "",
     "delete_cmd_prefix": "del ",
     "library": "var_list.py",
     "varRefreshCmd": "print(var_dic_list())"
    },
    "r": {
     "delete_cmd_postfix": ") ",
     "delete_cmd_prefix": "rm(",
     "library": "var_list.r",
     "varRefreshCmd": "cat(var_dic_list()) "
    }
   },
   "types_to_exclude": [
    "module",
    "function",
    "builtin_function_or_method",
    "instance",
    "_Feature"
   ],
   "window_display": false
  }
 },
 "nbformat": 4,
 "nbformat_minor": 4
}
