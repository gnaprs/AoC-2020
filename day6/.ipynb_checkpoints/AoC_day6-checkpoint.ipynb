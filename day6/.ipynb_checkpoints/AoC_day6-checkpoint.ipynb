{
 "cells": [
  {
   "cell_type": "markdown",
   "metadata": {},
   "source": [
    "# Day 6"
   ]
  },
  {
   "cell_type": "code",
   "execution_count": 19,
   "metadata": {
    "tags": []
   },
   "outputs": [],
   "source": [
    "import pandas as pd \n",
    "import re\n",
    "\n",
    "groups = []\n",
    "# import data\n",
    "with open(\"input.txt\", 'r') as file:\n",
    "    curGroup = \"\"\n",
    "    for line in file:\n",
    "        if line == \"\\n\" or line == \" \":\n",
    "            groups.append(curGroup)\n",
    "            curGroup = \"\"\n",
    "        else:\n",
    "            # add current person's answer to group!\n",
    "            curGroup+=line"
   ]
  },
  {
   "cell_type": "markdown",
   "metadata": {},
   "source": [
    "## Part 1"
   ]
  },
  {
   "cell_type": "code",
   "execution_count": 48,
   "metadata": {},
   "outputs": [
    {
     "name": "stdout",
     "output_type": "stream",
     "text": [
      "Ans: 6310\n"
     ]
    }
   ],
   "source": [
    "count_p1 = 0\n",
    "\n",
    "# add number of unique answers to current count\n",
    "for i in groups:\n",
    "    count_p1 += len(set(i.replace('\\n','')))\n",
    "\n",
    "print('Ans:', count_p1)"
   ]
  },
  {
   "cell_type": "markdown",
   "metadata": {},
   "source": [
    "## Part 2"
   ]
  },
  {
   "cell_type": "code",
   "execution_count": 50,
   "metadata": {
    "tags": []
   },
   "outputs": [
    {
     "name": "stdout",
     "output_type": "stream",
     "text": [
      "Ans: 3193\n"
     ]
    }
   ],
   "source": [
    "count_p2 = 0\n",
    "\n",
    "for i in groups:\n",
    "    # count group members and number of unique questions\n",
    "    group_mem = i.count('\\n')\n",
    "    qns = set(i.replace('\\n',''))\n",
    "\n",
    "    # check if number of answers matches number of group members\n",
    "    for char in qns:\n",
    "        if i.count(char) == group_mem:\n",
    "            count_p2+=1\n",
    "\n",
    "print('Ans:', count_p2)"
   ]
  }
 ],
 "metadata": {
  "kernelspec": {
   "display_name": "Python 3",
   "language": "python",
   "name": "python3"
  },
  "language_info": {
   "codemirror_mode": {
    "name": "ipython",
    "version": 3
   },
   "file_extension": ".py",
   "mimetype": "text/x-python",
   "name": "python",
   "nbconvert_exporter": "python",
   "pygments_lexer": "ipython3",
   "version": "3.7.7"
  },
  "toc": {
   "base_numbering": 1,
   "nav_menu": {},
   "number_sections": true,
   "sideBar": true,
   "skip_h1_title": false,
   "title_cell": "Table of Contents",
   "title_sidebar": "Contents",
   "toc_cell": false,
   "toc_position": {},
   "toc_section_display": true,
   "toc_window_display": false
  },
  "varInspector": {
   "cols": {
    "lenName": 16,
    "lenType": 16,
    "lenVar": 40
   },
   "kernels_config": {
    "python": {
     "delete_cmd_postfix": "",
     "delete_cmd_prefix": "del ",
     "library": "var_list.py",
     "varRefreshCmd": "print(var_dic_list())"
    },
    "r": {
     "delete_cmd_postfix": ") ",
     "delete_cmd_prefix": "rm(",
     "library": "var_list.r",
     "varRefreshCmd": "cat(var_dic_list()) "
    }
   },
   "types_to_exclude": [
    "module",
    "function",
    "builtin_function_or_method",
    "instance",
    "_Feature"
   ],
   "window_display": false
  }
 },
 "nbformat": 4,
 "nbformat_minor": 4
}
