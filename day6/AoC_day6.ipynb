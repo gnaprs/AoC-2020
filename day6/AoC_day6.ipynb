{
 "cells": [
  {
   "cell_type": "markdown",
   "metadata": {},
   "source": [
    "# Day 6"
   ]
  },
  {
   "cell_type": "code",
   "execution_count": 6,
   "metadata": {
    "tags": []
   },
   "outputs": [],
   "source": [
    "import pandas as pd \n",
    "import re\n",
    "\n",
    "arr = []\n",
    "# import data\n",
    "with open(\"input.txt\", 'r') as file:\n",
    "    curGroup = \"\"\n",
    "    for line in file:\n",
    "        if line == \"\\n\" or line == \" \":\n",
    "            arr.append(curGroup)\n",
    "            curGroup = \"\"\n",
    "        else:\n",
    "            # parse input into tuples and add into dictionary\n",
    "            curGroup+=line.rstrip().split('\\n')[0]"
   ]
  },
  {
   "cell_type": "markdown",
   "metadata": {},
   "source": [
    "## Part 1"
   ]
  },
  {
   "cell_type": "code",
   "execution_count": 13,
   "metadata": {},
   "outputs": [
    {
     "output_type": "stream",
     "name": "stdout",
     "text": [
      "Ans: 6310\n"
     ]
    }
   ],
   "source": [
    "sumCount = 0\n",
    "\n",
    "# add number of unique answers to current count\n",
    "for i in arr:\n",
    "    sumCount += len(set(i))\n",
    "\n",
    "print('Ans:', sumCount)"
   ]
  },
  {
   "source": [
    "## Part 2"
   ],
   "cell_type": "markdown",
   "metadata": {}
  },
  {
   "cell_type": "code",
   "execution_count": 111,
   "metadata": {},
   "outputs": [],
   "source": [
    "def isPassportValid(eyr,hgt,pid,ecl,byr,hcl,iyr):\n",
    "    validity = False\n",
    "\n",
    "    if not(pd.isna(eyr) or pd.isna(hgt) or pd.isna(pid) or pd.isna(ecl) or pd.isna(byr) or pd.isna(hcl) or pd.isna(iyr)):\n",
    "        passport_valid = []\n",
    "        # byr (Birth Year) - four digits; at least 1920 and at most 2002.\n",
    "        passport_valid.append(len(re.findall(\"(19[2-9][0-9]|200[0-2])\", byr)) == 1)\n",
    "\n",
    "        # iyr (Issue Year) - four digits; at least 2010 and at most 2020.\n",
    "        passport_valid.append(len(re.findall(\"(201[0-9]|2020)\", iyr)) == 1)\n",
    "\n",
    "        # eyr (Expiration Year) - four digits; at least 2020 and at most 2030.\n",
    "        passport_valid.append(len(re.findall(\"(202[0-9]|2030)\", eyr)) == 1)\n",
    "\n",
    "        # hgt (Height) - a number followed by either cm or in:\n",
    "            # If cm, the number must be at least 150 and at most 193.\n",
    "            # If in, the number must be at least 59 and at most 76.\n",
    "        passport_valid.append(len(re.findall(\"(1[5-8][0-9]cm|19[0-3]cm|59in|6[0-9]in|7[0-6]in)\", hgt)) == 1)\n",
    "\n",
    "        # hcl (Hair Color) - a # followed by exactly six characters 0-9 or a-f.\n",
    "        passport_valid.append(len(re.findall(\"^#[a-f0-9]{6}\", hcl)) == 1)\n",
    "\n",
    "        # ecl (Eye Color) - exactly one of: amb blu brn gry grn hzl oth.\n",
    "        passport_valid.append(len(re.findall(\"(amb|blu|brn|gry|grn|hzl|oth)\", ecl)) == 1)\n",
    "\n",
    "        # pid (Passport ID) - a nine-digit number, including leading zeroes.\n",
    "        passport_valid.append(len(re.findall(\"^\\d{9}$\", pid)) == 1)\n",
    "\n",
    "        validity = not(False in passport_valid)\n",
    "\n",
    "    return validity"
   ]
  },
  {
   "cell_type": "code",
   "execution_count": 112,
   "metadata": {
    "tags": []
   },
   "outputs": [
    {
     "output_type": "execute_result",
     "data": {
      "text/plain": [
       "False    160\n",
       "True     127\n",
       "Name: valid_p2, dtype: int64"
      ]
     },
     "metadata": {},
     "execution_count": 112
    }
   ],
   "source": [
    "df['valid_p2']=df.apply(lambda x: isPassportValid(x['eyr'], x['hgt'], x['pid'], x['ecl'], x['byr'], x['hcl'], x['iyr']), axis=1)\n",
    "df['valid_p2'].value_counts()"
   ]
  }
 ],
 "metadata": {
  "kernelspec": {
   "display_name": "Python 3",
   "language": "python",
   "name": "python3"
  },
  "language_info": {
   "codemirror_mode": {
    "name": "ipython",
    "version": 3
   },
   "file_extension": ".py",
   "mimetype": "text/x-python",
   "name": "python",
   "nbconvert_exporter": "python",
   "pygments_lexer": "ipython3",
   "version": "3.7.7-final"
  },
  "toc": {
   "base_numbering": 1,
   "nav_menu": {},
   "number_sections": true,
   "sideBar": true,
   "skip_h1_title": false,
   "title_cell": "Table of Contents",
   "title_sidebar": "Contents",
   "toc_cell": false,
   "toc_position": {},
   "toc_section_display": true,
   "toc_window_display": false
  },
  "varInspector": {
   "cols": {
    "lenName": 16,
    "lenType": 16,
    "lenVar": 40
   },
   "kernels_config": {
    "python": {
     "delete_cmd_postfix": "",
     "delete_cmd_prefix": "del ",
     "library": "var_list.py",
     "varRefreshCmd": "print(var_dic_list())"
    },
    "r": {
     "delete_cmd_postfix": ") ",
     "delete_cmd_prefix": "rm(",
     "library": "var_list.r",
     "varRefreshCmd": "cat(var_dic_list()) "
    }
   },
   "types_to_exclude": [
    "module",
    "function",
    "builtin_function_or_method",
    "instance",
    "_Feature"
   ],
   "window_display": false
  }
 },
 "nbformat": 4,
 "nbformat_minor": 4
}