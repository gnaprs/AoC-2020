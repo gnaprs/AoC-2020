{
 "cells": [
  {
   "cell_type": "markdown",
   "metadata": {},
   "source": [
    "# Day 2"
   ]
  },
  {
   "cell_type": "code",
   "execution_count": 1,
   "metadata": {},
   "outputs": [
    {
     "data": {
      "text/html": [
       "<div>\n",
       "<style scoped>\n",
       "    .dataframe tbody tr th:only-of-type {\n",
       "        vertical-align: middle;\n",
       "    }\n",
       "\n",
       "    .dataframe tbody tr th {\n",
       "        vertical-align: top;\n",
       "    }\n",
       "\n",
       "    .dataframe thead th {\n",
       "        text-align: right;\n",
       "    }\n",
       "</style>\n",
       "<table border=\"1\" class=\"dataframe\">\n",
       "  <thead>\n",
       "    <tr style=\"text-align: right;\">\n",
       "      <th></th>\n",
       "      <th>password</th>\n",
       "      <th>num</th>\n",
       "      <th>letter</th>\n",
       "      <th>num1</th>\n",
       "      <th>num2</th>\n",
       "    </tr>\n",
       "  </thead>\n",
       "  <tbody>\n",
       "    <tr>\n",
       "      <th>0</th>\n",
       "      <td>qllllqllklhlvtl</td>\n",
       "      <td>8-11</td>\n",
       "      <td>l</td>\n",
       "      <td>8</td>\n",
       "      <td>11</td>\n",
       "    </tr>\n",
       "    <tr>\n",
       "      <th>1</th>\n",
       "      <td>wmmmmmttm</td>\n",
       "      <td>1-3</td>\n",
       "      <td>m</td>\n",
       "      <td>1</td>\n",
       "      <td>3</td>\n",
       "    </tr>\n",
       "    <tr>\n",
       "      <th>2</th>\n",
       "      <td>pgppp</td>\n",
       "      <td>2-4</td>\n",
       "      <td>p</td>\n",
       "      <td>2</td>\n",
       "      <td>4</td>\n",
       "    </tr>\n",
       "  </tbody>\n",
       "</table>\n",
       "</div>"
      ],
      "text/plain": [
       "          password   num letter num1 num2\n",
       "0  qllllqllklhlvtl  8-11      l    8   11\n",
       "1        wmmmmmttm   1-3      m    1    3\n",
       "2            pgppp   2-4      p    2    4"
      ]
     },
     "execution_count": 1,
     "metadata": {},
     "output_type": "execute_result"
    }
   ],
   "source": [
    "import pandas as pd\n",
    "import numpy as np\n",
    "\n",
    "# import from given input\n",
    "df1 = pd.read_csv(\"input.txt\", header=None)\n",
    "arr=np.ndarray.flatten(df1.values)\n",
    "\n",
    "df = pd.DataFrame(arr,columns=['password'])\n",
    "\n",
    "# formatting strings\n",
    "df[['num','letter','password']] = df['password'].str.split(' ',expand=True)\n",
    "df[['num1','num2']] = df['num'].str.split('-',expand=True)\n",
    "df['letter'] = df['letter'].map(lambda x: x.strip(':'))\n",
    "\n",
    "# as an example, show top 3 formatted entries\n",
    "df.head(3)"
   ]
  },
  {
   "cell_type": "markdown",
   "metadata": {},
   "source": [
    "## Part 1"
   ]
  },
  {
   "cell_type": "code",
   "execution_count": 3,
   "metadata": {},
   "outputs": [
    {
     "data": {
      "text/plain": [
       "False    584\n",
       "True     416\n",
       "Name: valid_p1, dtype: int64"
      ]
     },
     "execution_count": 3,
     "metadata": {},
     "output_type": "execute_result"
    }
   ],
   "source": [
    "\n",
    "def isValidPassword_p1(password, num1, num2, letter):\n",
    "    # counting frequency of letter in password\n",
    "    freq=password.count(letter)\n",
    "    \n",
    "    if(freq >= int(num1) and freq <= int(num2)):\n",
    "        # letter freq in specified range\n",
    "        return(True) \n",
    "    else:\n",
    "        # letter freq not in specified range\n",
    "        return(False)\n",
    "\n",
    "df['valid_p1']=df.apply(lambda x: isValidPassword_p1(x['password'], x['num1'], x['num2'], x['letter']), axis=1)\n",
    "df['valid_p1'].value_counts()"
   ]
  },
  {
   "cell_type": "markdown",
   "metadata": {},
   "source": [
    "## Part 2"
   ]
  },
  {
   "cell_type": "code",
   "execution_count": 5,
   "metadata": {
    "tags": []
   },
   "outputs": [
    {
     "output_type": "execute_result",
     "data": {
      "text/plain": [
       "True     688\n",
       "False    312\n",
       "Name: valid_p2, dtype: int64"
      ]
     },
     "metadata": {},
     "execution_count": 5
    }
   ],
   "source": [
    "def isValidPassword_p2(password, num1, num2, letter):\n",
    "    # function is essentially an XNOR gate!\n",
    "    l1 = (password[int(num1)-1]==letter) # check if 1st character matches\n",
    "    l2 = (password[int(num2)-1]==letter) # check if 2nd character matches\n",
    "    \n",
    "    return (l1^l2)\n",
    "\n",
    "df['valid_p2']=df.apply(lambda x: isValidPassword_p2(x['password'], x['num1'], x['num2'], x['letter']), axis=1)\n",
    "df['valid_p2'].value_counts()"
   ]
  }
 ],
 "metadata": {
  "kernelspec": {
   "display_name": "Python 3",
   "language": "python",
   "name": "python3"
  },
  "language_info": {
   "codemirror_mode": {
    "name": "ipython",
    "version": 3
   },
   "file_extension": ".py",
   "mimetype": "text/x-python",
   "name": "python",
   "nbconvert_exporter": "python",
   "pygments_lexer": "ipython3",
   "version": "3.7.7-final"
  },
  "toc": {
   "base_numbering": 1,
   "nav_menu": {},
   "number_sections": true,
   "sideBar": true,
   "skip_h1_title": false,
   "title_cell": "Table of Contents",
   "title_sidebar": "Contents",
   "toc_cell": false,
   "toc_position": {},
   "toc_section_display": true,
   "toc_window_display": false
  },
  "varInspector": {
   "cols": {
    "lenName": 16,
    "lenType": 16,
    "lenVar": 40
   },
   "kernels_config": {
    "python": {
     "delete_cmd_postfix": "",
     "delete_cmd_prefix": "del ",
     "library": "var_list.py",
     "varRefreshCmd": "print(var_dic_list())"
    },
    "r": {
     "delete_cmd_postfix": ") ",
     "delete_cmd_prefix": "rm(",
     "library": "var_list.r",
     "varRefreshCmd": "cat(var_dic_list()) "
    }
   },
   "types_to_exclude": [
    "module",
    "function",
    "builtin_function_or_method",
    "instance",
    "_Feature"
   ],
   "window_display": false
  }
 },
 "nbformat": 4,
 "nbformat_minor": 4
}