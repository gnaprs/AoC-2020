{
 "cells": [
  {
   "cell_type": "markdown",
   "metadata": {},
   "source": [
    "# Day 7"
   ]
  },
  {
   "cell_type": "code",
   "execution_count": 5,
   "metadata": {},
   "outputs": [],
   "source": [
    "import re\n",
    "import networkx as nx\n",
    "\n",
    "with open(\"input.txt\", \"r\") as file:\n",
    "    data = file.readlines()\n",
    "\n",
    "G = nx.DiGraph()\n",
    "\n",
    "for line in data:\n",
    "    # Placing r or R before a string literal creates what is known as a raw-string literal. Raw strings do not process escape sequences (\\n, \\b, etc.) and are thus commonly used for Regex patterns, which often contain a lot of \\ characters.\n",
    "    m = re.match(r\"(.*) bags contain (.*)$\", line)\n",
    "    if m:\n",
    "        color = m.group(1)\n",
    "        remain = m.group(2)\n",
    "\n",
    "        for child in re.findall(r\"([\\d]+) (.*?) bag\", remain):\n",
    "            G.add_edge(color, child[1], count=int(child[0]))\n"
   ]
  },
  {
   "cell_type": "markdown",
   "metadata": {},
   "source": [
    "## Part 1"
   ]
  },
  {
   "cell_type": "code",
   "execution_count": 4,
   "metadata": {},
   "outputs": [
    {
     "output_type": "stream",
     "name": "stdout",
     "text": [
      "Ans: 370\n"
     ]
    }
   ],
   "source": [
    "print('Ans:', len(nx.ancestors(G, \"shiny gold\")))"
   ]
  },
  {
   "cell_type": "markdown",
   "metadata": {},
   "source": [
    "## Part 2"
   ]
  },
  {
   "cell_type": "code",
   "execution_count": 7,
   "metadata": {},
   "outputs": [],
   "source": [
    "def countBagsIn(root):\n",
    "    totalBags = 0\n",
    "    for k, val in G[root].items():\n",
    "        totalBags += val['count'] * countBagsIn(k) + val['count']\n",
    "\n",
    "    return totalBags"
   ]
  },
  {
   "cell_type": "code",
   "execution_count": 8,
   "metadata": {
    "tags": []
   },
   "outputs": [
    {
     "output_type": "stream",
     "name": "stdout",
     "text": [
      "Ans: 29547\n"
     ]
    }
   ],
   "source": [
    "print('Ans:', countBagsIn('shiny gold'))"
   ]
  }
 ],
 "metadata": {
  "kernelspec": {
   "display_name": "Python 3",
   "language": "python",
   "name": "python3"
  },
  "language_info": {
   "codemirror_mode": {
    "name": "ipython",
    "version": 3
   },
   "file_extension": ".py",
   "mimetype": "text/x-python",
   "name": "python",
   "nbconvert_exporter": "python",
   "pygments_lexer": "ipython3",
   "version": "3.7.7-final"
  },
  "toc": {
   "base_numbering": 1,
   "nav_menu": {},
   "number_sections": true,
   "sideBar": true,
   "skip_h1_title": false,
   "title_cell": "Table of Contents",
   "title_sidebar": "Contents",
   "toc_cell": false,
   "toc_position": {},
   "toc_section_display": true,
   "toc_window_display": false
  },
  "varInspector": {
   "cols": {
    "lenName": 16,
    "lenType": 16,
    "lenVar": 40
   },
   "kernels_config": {
    "python": {
     "delete_cmd_postfix": "",
     "delete_cmd_prefix": "del ",
     "library": "var_list.py",
     "varRefreshCmd": "print(var_dic_list())"
    },
    "r": {
     "delete_cmd_postfix": ") ",
     "delete_cmd_prefix": "rm(",
     "library": "var_list.r",
     "varRefreshCmd": "cat(var_dic_list()) "
    }
   },
   "types_to_exclude": [
    "module",
    "function",
    "builtin_function_or_method",
    "instance",
    "_Feature"
   ],
   "window_display": false
  }
 },
 "nbformat": 4,
 "nbformat_minor": 4
}