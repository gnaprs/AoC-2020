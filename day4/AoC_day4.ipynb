{
 "cells": [
  {
   "cell_type": "markdown",
   "metadata": {},
   "source": [
    "# Day 4"
   ]
  },
  {
   "cell_type": "code",
   "execution_count": 80,
   "metadata": {
    "tags": []
   },
   "outputs": [
    {
     "data": {
      "text/html": [
       "<div>\n",
       "<style scoped>\n",
       "    .dataframe tbody tr th:only-of-type {\n",
       "        vertical-align: middle;\n",
       "    }\n",
       "\n",
       "    .dataframe tbody tr th {\n",
       "        vertical-align: top;\n",
       "    }\n",
       "\n",
       "    .dataframe thead th {\n",
       "        text-align: right;\n",
       "    }\n",
       "</style>\n",
       "<table border=\"1\" class=\"dataframe\">\n",
       "  <thead>\n",
       "    <tr style=\"text-align: right;\">\n",
       "      <th></th>\n",
       "      <th>eyr</th>\n",
       "      <th>hgt</th>\n",
       "      <th>pid</th>\n",
       "      <th>ecl</th>\n",
       "      <th>byr</th>\n",
       "      <th>hcl</th>\n",
       "      <th>iyr</th>\n",
       "      <th>cid</th>\n",
       "    </tr>\n",
       "  </thead>\n",
       "  <tbody>\n",
       "    <tr>\n",
       "      <th>284</th>\n",
       "      <td>2039</td>\n",
       "      <td>72cm</td>\n",
       "      <td>#d80d30</td>\n",
       "      <td>#cc4aff</td>\n",
       "      <td>2025</td>\n",
       "      <td>5307c9</td>\n",
       "      <td>2025</td>\n",
       "      <td>224</td>\n",
       "    </tr>\n",
       "    <tr>\n",
       "      <th>285</th>\n",
       "      <td>2027</td>\n",
       "      <td>184</td>\n",
       "      <td>58151347</td>\n",
       "      <td>NaN</td>\n",
       "      <td>2015</td>\n",
       "      <td>98fb9d</td>\n",
       "      <td>2029</td>\n",
       "      <td>NaN</td>\n",
       "    </tr>\n",
       "    <tr>\n",
       "      <th>286</th>\n",
       "      <td>2021</td>\n",
       "      <td>183cm</td>\n",
       "      <td>164cm</td>\n",
       "      <td>xry</td>\n",
       "      <td>2019</td>\n",
       "      <td>#18171d</td>\n",
       "      <td>2013</td>\n",
       "      <td>187</td>\n",
       "    </tr>\n",
       "  </tbody>\n",
       "</table>\n",
       "</div>"
      ],
      "text/plain": [
       "      eyr    hgt       pid      ecl   byr      hcl   iyr  cid\n",
       "284  2039   72cm   #d80d30  #cc4aff  2025   5307c9  2025  224\n",
       "285  2027    184  58151347      NaN  2015   98fb9d  2029  NaN\n",
       "286  2021  183cm     164cm      xry  2019  #18171d  2013  187"
      ]
     },
     "execution_count": 80,
     "metadata": {},
     "output_type": "execute_result"
    }
   ],
   "source": [
    "import pandas as pd \n",
    "import re\n",
    "\n",
    "arr = []\n",
    "# import data\n",
    "with open(\"input.txt\", 'r') as file:\n",
    "    curDict = dict()\n",
    "    for line in file:\n",
    "        if line == \"\\n\" or line == \"\":\n",
    "            # new entry! add data to array and create empty dictionary\n",
    "            arr.append(curDict)\n",
    "            curDict = dict()\n",
    "        else:\n",
    "            # parse input into tuples and add into dictionary\n",
    "            tuples=line.rstrip().split(' ')\n",
    "            for i in tuples:\n",
    "                i = i.split(':')\n",
    "                curDict[i[0]]=i[1]\n",
    "\n",
    "# Creates DataFrame. \n",
    "df = pd.DataFrame(arr) \n",
    "df.tail(3)"
   ]
  },
  {
   "cell_type": "markdown",
   "metadata": {},
   "source": [
    "## Part 1"
   ]
  },
  {
   "cell_type": "code",
   "execution_count": 103,
   "metadata": {},
   "outputs": [
    {
     "data": {
      "text/plain": [
       "True     219\n",
       "False     68\n",
       "Name: valid_p1, dtype: int64"
      ]
     },
     "execution_count": 103,
     "metadata": {},
     "output_type": "execute_result"
    }
   ],
   "source": [
    "df['valid_p1']=~(df.drop(['cid'], axis=1)).isnull().any(axis=1)\n",
    "df['valid_p1'].value_counts()"
   ]
  },
  {
   "cell_type": "markdown",
   "metadata": {},
   "source": [
    "## Part 2"
   ]
  },
  {
   "cell_type": "code",
   "execution_count": 111,
   "metadata": {},
   "outputs": [],
   "source": [
    "def isPassportValid(eyr,hgt,pid,ecl,byr,hcl,iyr):\n",
    "    validity = False\n",
    "\n",
    "    if not(pd.isna(eyr) or pd.isna(hgt) or pd.isna(pid) or pd.isna(ecl) or pd.isna(byr) or pd.isna(hcl) or pd.isna(iyr)):\n",
    "        passport_valid = []\n",
    "        # byr (Birth Year) - four digits; at least 1920 and at most 2002.\n",
    "        passport_valid.append(len(re.findall(\"(19[2-9][0-9]|200[0-2])\", byr)) == 1)\n",
    "\n",
    "        # iyr (Issue Year) - four digits; at least 2010 and at most 2020.\n",
    "        passport_valid.append(len(re.findall(\"(201[0-9]|2020)\", iyr)) == 1)\n",
    "\n",
    "        # eyr (Expiration Year) - four digits; at least 2020 and at most 2030.\n",
    "        passport_valid.append(len(re.findall(\"(202[0-9]|2030)\", eyr)) == 1)\n",
    "\n",
    "        # hgt (Height) - a number followed by either cm or in:\n",
    "            # If cm, the number must be at least 150 and at most 193.\n",
    "            # If in, the number must be at least 59 and at most 76.\n",
    "        passport_valid.append(len(re.findall(\"(1[5-8][0-9]cm|19[0-3]cm|59in|6[0-9]in|7[0-6]in)\", hgt)) == 1)\n",
    "\n",
    "        # hcl (Hair Color) - a # followed by exactly six characters 0-9 or a-f.\n",
    "        passport_valid.append(len(re.findall(\"^#[a-f0-9]{6}\", hcl)) == 1)\n",
    "\n",
    "        # ecl (Eye Color) - exactly one of: amb blu brn gry grn hzl oth.\n",
    "        passport_valid.append(len(re.findall(\"(amb|blu|brn|gry|grn|hzl|oth)\", ecl)) == 1)\n",
    "\n",
    "        # pid (Passport ID) - a nine-digit number, including leading zeroes.\n",
    "        passport_valid.append(len(re.findall(\"^\\d{9}$\", pid)) == 1)\n",
    "\n",
    "        validity = not(False in passport_valid)\n",
    "\n",
    "    return validity"
   ]
  },
  {
   "cell_type": "code",
   "execution_count": 112,
   "metadata": {
    "tags": []
   },
   "outputs": [
    {
     "data": {
      "text/plain": [
       "False    160\n",
       "True     127\n",
       "Name: valid_p2, dtype: int64"
      ]
     },
     "execution_count": 112,
     "metadata": {},
     "output_type": "execute_result"
    }
   ],
   "source": [
    "df['valid_p2']=df.apply(lambda x: isPassportValid(x['eyr'], x['hgt'], x['pid'], x['ecl'], x['byr'], x['hcl'], x['iyr']), axis=1)\n",
    "df['valid_p2'].value_counts()"
   ]
  }
 ],
 "metadata": {
  "kernelspec": {
   "display_name": "Python 3",
   "language": "python",
   "name": "python3"
  },
  "language_info": {
   "codemirror_mode": {
    "name": "ipython",
    "version": 3
   },
   "file_extension": ".py",
   "mimetype": "text/x-python",
   "name": "python",
   "nbconvert_exporter": "python",
   "pygments_lexer": "ipython3",
   "version": "3.7.7"
  },
  "toc": {
   "base_numbering": 1,
   "nav_menu": {},
   "number_sections": true,
   "sideBar": true,
   "skip_h1_title": false,
   "title_cell": "Table of Contents",
   "title_sidebar": "Contents",
   "toc_cell": false,
   "toc_position": {},
   "toc_section_display": true,
   "toc_window_display": false
  },
  "varInspector": {
   "cols": {
    "lenName": 16,
    "lenType": 16,
    "lenVar": 40
   },
   "kernels_config": {
    "python": {
     "delete_cmd_postfix": "",
     "delete_cmd_prefix": "del ",
     "library": "var_list.py",
     "varRefreshCmd": "print(var_dic_list())"
    },
    "r": {
     "delete_cmd_postfix": ") ",
     "delete_cmd_prefix": "rm(",
     "library": "var_list.r",
     "varRefreshCmd": "cat(var_dic_list()) "
    }
   },
   "types_to_exclude": [
    "module",
    "function",
    "builtin_function_or_method",
    "instance",
    "_Feature"
   ],
   "window_display": false
  }
 },
 "nbformat": 4,
 "nbformat_minor": 4
}