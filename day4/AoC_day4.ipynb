{
 "cells": [
  {
   "cell_type": "markdown",
   "metadata": {},
   "source": [
    "# Day 4"
   ]
  },
  {
   "cell_type": "code",
   "execution_count": 78,
   "metadata": {
    "tags": []
   },
   "outputs": [
    {
     "output_type": "execute_result",
     "data": {
      "text/plain": [
       "      eyr    hgt       pid      ecl   byr      hcl   iyr  cid\n",
       "284  2039   72cm   #d80d30  #cc4aff  2025   5307c9  2025  224\n",
       "285  2027    184  58151347      NaN  2015   98fb9d  2029  NaN\n",
       "286  2021  183cm     164cm      xry  2019  #18171d  2013  187"
      ],
      "text/html": "<div>\n<style scoped>\n    .dataframe tbody tr th:only-of-type {\n        vertical-align: middle;\n    }\n\n    .dataframe tbody tr th {\n        vertical-align: top;\n    }\n\n    .dataframe thead th {\n        text-align: right;\n    }\n</style>\n<table border=\"1\" class=\"dataframe\">\n  <thead>\n    <tr style=\"text-align: right;\">\n      <th></th>\n      <th>eyr</th>\n      <th>hgt</th>\n      <th>pid</th>\n      <th>ecl</th>\n      <th>byr</th>\n      <th>hcl</th>\n      <th>iyr</th>\n      <th>cid</th>\n    </tr>\n  </thead>\n  <tbody>\n    <tr>\n      <th>284</th>\n      <td>2039</td>\n      <td>72cm</td>\n      <td>#d80d30</td>\n      <td>#cc4aff</td>\n      <td>2025</td>\n      <td>5307c9</td>\n      <td>2025</td>\n      <td>224</td>\n    </tr>\n    <tr>\n      <th>285</th>\n      <td>2027</td>\n      <td>184</td>\n      <td>58151347</td>\n      <td>NaN</td>\n      <td>2015</td>\n      <td>98fb9d</td>\n      <td>2029</td>\n      <td>NaN</td>\n    </tr>\n    <tr>\n      <th>286</th>\n      <td>2021</td>\n      <td>183cm</td>\n      <td>164cm</td>\n      <td>xry</td>\n      <td>2019</td>\n      <td>#18171d</td>\n      <td>2013</td>\n      <td>187</td>\n    </tr>\n  </tbody>\n</table>\n</div>"
     },
     "metadata": {},
     "execution_count": 78
    }
   ],
   "source": [
    "import pandas as pd \n",
    "\n",
    "arr = []\n",
    "# import data\n",
    "with open(\"input.txt\", 'r') as file:\n",
    "    curDict = dict()\n",
    "    for line in file:\n",
    "        if line == \"\\n\" or line == \"\":\n",
    "            # new entry! add data to array and create empty dictionary\n",
    "            arr.append(curDict)\n",
    "            curDict = dict()\n",
    "        else:\n",
    "            # parse input into tuples and add into dictionary\n",
    "            tuples=line.rstrip().split(' ')\n",
    "            for i in tuples:\n",
    "                i = i.split(':')\n",
    "                curDict[i[0]]=i[1]\n",
    "\n",
    "# Creates DataFrame. \n",
    "df = pd.DataFrame(arr) \n",
    "df.tail(3)"
   ]
  },
  {
   "cell_type": "markdown",
   "metadata": {},
   "source": [
    "## Part 1"
   ]
  },
  {
   "cell_type": "code",
   "execution_count": 80,
   "metadata": {},
   "outputs": [
    {
     "output_type": "execute_result",
     "data": {
      "text/plain": [
       "True     219\n",
       "False     68\n",
       "Name: valid, dtype: int64"
      ]
     },
     "metadata": {},
     "execution_count": 80
    }
   ],
   "source": [
    "df['valid_p1']=~(df.drop(['cid'], axis=1)).isnull().any(axis=1)\n",
    "df['valid_p1'].value_counts()"
   ]
  },
  {
   "source": [
    "## Part 2"
   ],
   "cell_type": "markdown",
   "metadata": {}
  },
  {
   "cell_type": "code",
   "execution_count": 136,
   "metadata": {},
   "outputs": [],
   "source": [
    "def isPassportValid(eyr,hgt,pid,ecl,bye,iyr):\n",
    "    # byr (Birth Year) - four digits; at least 1920 and at most 2002.\n",
    "\n",
    "    # iyr (Issue Year) - four digits; at least 2010 and at most 2020.\n",
    "\n",
    "    # eyr (Expiration Year) - four digits; at least 2020 and at most 2030.\n",
    "\n",
    "    # hgt (Height) - a number followed by either cm or in:\n",
    "        # If cm, the number must be at least 150 and at most 193.\n",
    "        # If in, the number must be at least 59 and at most 76.\n",
    "\n",
    "    # hcl (Hair Color) - a # followed by exactly six characters 0-9 or a-f.\n",
    "\n",
    "    # ecl (Eye Color) - exactly one of: amb blu brn gry grn hzl oth.\n",
    "\n",
    "    # pid (Passport ID) - a nine-digit number, including leading zeroes.\n",
    "\n",
    "    # cid (Country ID) - ignored, missing or not.\n",
    "    \n",
    "    return validity"
   ]
  },
  {
   "cell_type": "code",
   "execution_count": 137,
   "metadata": {
    "tags": []
   },
   "outputs": [
    {
     "output_type": "stream",
     "name": "stdout",
     "text": [
      "Right:  3 Down:  1 Trees:  220\nRight:  1 Down:  1 Trees:  70\nRight:  5 Down:  1 Trees:  63\nRight:  7 Down:  1 Trees:  76\nRight:  1 Down:  2 Trees:  29\n2138320800\n"
     ]
    }
   ],
   "source": [
    "df['valid_p2']=df.apply(lambda x: isPassportValid(x['eyr'], x['hgt'], x['pid'], x['ecl'], x['byr'], x['iyr']), axis=1)\n",
    "df['valid_p2'].value_counts()"
   ]
  }
 ],
 "metadata": {
  "kernelspec": {
   "display_name": "Python 3",
   "language": "python",
   "name": "python3"
  },
  "language_info": {
   "codemirror_mode": {
    "name": "ipython",
    "version": 3
   },
   "file_extension": ".py",
   "mimetype": "text/x-python",
   "name": "python",
   "nbconvert_exporter": "python",
   "pygments_lexer": "ipython3",
   "version": "3.7.7-final"
  },
  "toc": {
   "base_numbering": 1,
   "nav_menu": {},
   "number_sections": true,
   "sideBar": true,
   "skip_h1_title": false,
   "title_cell": "Table of Contents",
   "title_sidebar": "Contents",
   "toc_cell": false,
   "toc_position": {},
   "toc_section_display": true,
   "toc_window_display": false
  },
  "varInspector": {
   "cols": {
    "lenName": 16,
    "lenType": 16,
    "lenVar": 40
   },
   "kernels_config": {
    "python": {
     "delete_cmd_postfix": "",
     "delete_cmd_prefix": "del ",
     "library": "var_list.py",
     "varRefreshCmd": "print(var_dic_list())"
    },
    "r": {
     "delete_cmd_postfix": ") ",
     "delete_cmd_prefix": "rm(",
     "library": "var_list.r",
     "varRefreshCmd": "cat(var_dic_list()) "
    }
   },
   "types_to_exclude": [
    "module",
    "function",
    "builtin_function_or_method",
    "instance",
    "_Feature"
   ],
   "window_display": false
  }
 },
 "nbformat": 4,
 "nbformat_minor": 4
}